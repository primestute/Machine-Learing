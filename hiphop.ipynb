{
 "cells": [
  {
   "cell_type": "markdown",
   "id": "d418c27f-1f2e-4fec-a535-2be08cf61c6e",
   "metadata": {},
   "source": [
    "Over the past few years, streaming services with huge catalogs have become the primary means through which most people listen to their favorite music. But at the same time, the sheer amount of music on offer can mean users might be a bit overwhelmed when trying to look for newer music that suits their tastes.\n",
    "\n",
    "For this reason, streaming services have looked into means of categorizing music to allow for personalized recommendations. One method involves direct analysis of the raw audio information in a given song, scoring the raw data on a variety of metrics. Today, we'll be examining data compiled by a research group known as The Echo Nest. Our goal is to look through this dataset and classify songs as being either 'Hip-Hop' or 'Rock' - all without listening to a single one ourselves. In doing so, we will learn how to clean our data, do some exploratory data visualization, and use feature reduction towards the goal of feeding our data through some simple machine learning algorithms, such as decision trees and logistic regression.\n",
    "\n",
    "To begin with, let's load the metadata about our tracks alongside the track metrics compiled by The Echo Nest. A song is about more than its title, artist, and number of listens. We have another dataset that has musical features of each track such as danceability and acousticness on a scale from -1 to 1. These exist in two different files, which are in different formats - CSV and JSON. While CSV is a popular file format for denoting tabular data, JSON is another common file format in which databases often return the results of a given query.\n",
    "\n",
    "Let's start by creating two pandas DataFrames out of these files that we can merge so we have features and labels (often also referred to as X and y) for the classification later on."
   ]
  },
  {
   "cell_type": "code",
   "execution_count": 390,
   "id": "577f63d4-24c0-4e81-9009-dc61e2702a1c",
   "metadata": {},
   "outputs": [],
   "source": [
    "import pandas as pd\n",
    "import numpy as np\n",
    "from sklearn.model_selection import train_test_split\n",
    "from sklearn.tree import DecisionTreeClassifier\n",
    "from sklearn.ensemble import RandomForestClassifier\n",
    "from sklearn.svm import SVC\n",
    "from sklearn.linear_model import LogisticRegression\n",
    "from sklearn.model_selection import KFold, cross_val_score\n",
    "from sklearn.metrics import classification_report, ConfusionMatrixDisplay, confusion_matrix\n",
    "from sklearn.pipeline import Pipeline, make_pipeline\n",
    "import matplotlib.colors\n",
    "import matplotlib.pyplot as plt\n",
    "import seaborn as sns\n",
    "%matplotlib inline"
   ]
  },
  {
   "cell_type": "code",
   "execution_count": 391,
   "id": "13442833-5b5c-40e6-8fbc-8f5f6f40fa69",
   "metadata": {},
   "outputs": [
    {
     "name": "stdout",
     "output_type": "stream",
     "text": [
      "<class 'pandas.core.frame.DataFrame'>\n",
      "Int64Index: 4802 entries, 0 to 4801\n",
      "Data columns (total 10 columns):\n",
      " #   Column            Non-Null Count  Dtype  \n",
      "---  ------            --------------  -----  \n",
      " 0   track_id          4802 non-null   int64  \n",
      " 1   acousticness      4802 non-null   float64\n",
      " 2   danceability      4802 non-null   float64\n",
      " 3   energy            4802 non-null   float64\n",
      " 4   instrumentalness  4802 non-null   float64\n",
      " 5   liveness          4802 non-null   float64\n",
      " 6   speechiness       4802 non-null   float64\n",
      " 7   tempo             4802 non-null   float64\n",
      " 8   valence           4802 non-null   float64\n",
      " 9   genre_top         4802 non-null   object \n",
      "dtypes: float64(8), int64(1), object(1)\n",
      "memory usage: 412.7+ KB\n"
     ]
    }
   ],
   "source": [
    "# Read in track metadata with genre labels\n",
    "tracks = pd.read_csv('C:/Users/HP/Desktop/data/fma-rock-vs-hiphop.csv')\n",
    "\n",
    "# Read in track metrics with the features\n",
    "echonest_metrics = pd.read_json('C:/Users/HP/Desktop/data/echonest-metrics.json', precise_float=True)\n",
    "\n",
    "# Merge the relevant columns of tracks and echonest_metrics\n",
    "df = echonest_metrics.merge(tracks[['genre_top', 'track_id']], on='track_id')\n",
    "\n",
    "# Inspect the resultant dataframe\n",
    "df.info()"
   ]
  },
  {
   "cell_type": "code",
   "execution_count": 392,
   "id": "1c08c258-f468-48f8-83e9-2d64974c7bcb",
   "metadata": {},
   "outputs": [
    {
     "data": {
      "text/html": [
       "<div>\n",
       "<style scoped>\n",
       "    .dataframe tbody tr th:only-of-type {\n",
       "        vertical-align: middle;\n",
       "    }\n",
       "\n",
       "    .dataframe tbody tr th {\n",
       "        vertical-align: top;\n",
       "    }\n",
       "\n",
       "    .dataframe thead th {\n",
       "        text-align: right;\n",
       "    }\n",
       "</style>\n",
       "<table border=\"1\" class=\"dataframe\">\n",
       "  <thead>\n",
       "    <tr style=\"text-align: right;\">\n",
       "      <th></th>\n",
       "      <th>track_id</th>\n",
       "      <th>acousticness</th>\n",
       "      <th>danceability</th>\n",
       "      <th>energy</th>\n",
       "      <th>instrumentalness</th>\n",
       "      <th>liveness</th>\n",
       "      <th>speechiness</th>\n",
       "      <th>tempo</th>\n",
       "      <th>valence</th>\n",
       "    </tr>\n",
       "  </thead>\n",
       "  <tbody>\n",
       "    <tr>\n",
       "      <th>count</th>\n",
       "      <td>4802.000000</td>\n",
       "      <td>4.802000e+03</td>\n",
       "      <td>4802.000000</td>\n",
       "      <td>4802.000000</td>\n",
       "      <td>4802.000000</td>\n",
       "      <td>4802.000000</td>\n",
       "      <td>4802.000000</td>\n",
       "      <td>4802.000000</td>\n",
       "      <td>4802.000000</td>\n",
       "    </tr>\n",
       "    <tr>\n",
       "      <th>mean</th>\n",
       "      <td>30164.871720</td>\n",
       "      <td>4.870600e-01</td>\n",
       "      <td>0.436556</td>\n",
       "      <td>0.625126</td>\n",
       "      <td>0.604096</td>\n",
       "      <td>0.187997</td>\n",
       "      <td>0.104877</td>\n",
       "      <td>126.687944</td>\n",
       "      <td>0.453413</td>\n",
       "    </tr>\n",
       "    <tr>\n",
       "      <th>std</th>\n",
       "      <td>28592.013796</td>\n",
       "      <td>3.681396e-01</td>\n",
       "      <td>0.183502</td>\n",
       "      <td>0.244051</td>\n",
       "      <td>0.376487</td>\n",
       "      <td>0.150562</td>\n",
       "      <td>0.145934</td>\n",
       "      <td>34.002473</td>\n",
       "      <td>0.266632</td>\n",
       "    </tr>\n",
       "    <tr>\n",
       "      <th>min</th>\n",
       "      <td>2.000000</td>\n",
       "      <td>9.491000e-07</td>\n",
       "      <td>0.051307</td>\n",
       "      <td>0.000279</td>\n",
       "      <td>0.000000</td>\n",
       "      <td>0.025297</td>\n",
       "      <td>0.023234</td>\n",
       "      <td>29.093000</td>\n",
       "      <td>0.014392</td>\n",
       "    </tr>\n",
       "    <tr>\n",
       "      <th>25%</th>\n",
       "      <td>7494.250000</td>\n",
       "      <td>8.351236e-02</td>\n",
       "      <td>0.296047</td>\n",
       "      <td>0.450757</td>\n",
       "      <td>0.164972</td>\n",
       "      <td>0.104052</td>\n",
       "      <td>0.036897</td>\n",
       "      <td>98.000750</td>\n",
       "      <td>0.224617</td>\n",
       "    </tr>\n",
       "    <tr>\n",
       "      <th>50%</th>\n",
       "      <td>20723.500000</td>\n",
       "      <td>5.156888e-01</td>\n",
       "      <td>0.419447</td>\n",
       "      <td>0.648374</td>\n",
       "      <td>0.808752</td>\n",
       "      <td>0.123080</td>\n",
       "      <td>0.049594</td>\n",
       "      <td>124.625500</td>\n",
       "      <td>0.446240</td>\n",
       "    </tr>\n",
       "    <tr>\n",
       "      <th>75%</th>\n",
       "      <td>44240.750000</td>\n",
       "      <td>8.555765e-01</td>\n",
       "      <td>0.565339</td>\n",
       "      <td>0.837016</td>\n",
       "      <td>0.915472</td>\n",
       "      <td>0.215151</td>\n",
       "      <td>0.088290</td>\n",
       "      <td>151.450000</td>\n",
       "      <td>0.666914</td>\n",
       "    </tr>\n",
       "    <tr>\n",
       "      <th>max</th>\n",
       "      <td>124722.000000</td>\n",
       "      <td>9.957965e-01</td>\n",
       "      <td>0.961871</td>\n",
       "      <td>0.999768</td>\n",
       "      <td>0.993134</td>\n",
       "      <td>0.971392</td>\n",
       "      <td>0.966177</td>\n",
       "      <td>250.059000</td>\n",
       "      <td>0.983649</td>\n",
       "    </tr>\n",
       "  </tbody>\n",
       "</table>\n",
       "</div>"
      ],
      "text/plain": [
       "            track_id  acousticness  danceability       energy  \\\n",
       "count    4802.000000  4.802000e+03   4802.000000  4802.000000   \n",
       "mean    30164.871720  4.870600e-01      0.436556     0.625126   \n",
       "std     28592.013796  3.681396e-01      0.183502     0.244051   \n",
       "min         2.000000  9.491000e-07      0.051307     0.000279   \n",
       "25%      7494.250000  8.351236e-02      0.296047     0.450757   \n",
       "50%     20723.500000  5.156888e-01      0.419447     0.648374   \n",
       "75%     44240.750000  8.555765e-01      0.565339     0.837016   \n",
       "max    124722.000000  9.957965e-01      0.961871     0.999768   \n",
       "\n",
       "       instrumentalness     liveness  speechiness        tempo      valence  \n",
       "count       4802.000000  4802.000000  4802.000000  4802.000000  4802.000000  \n",
       "mean           0.604096     0.187997     0.104877   126.687944     0.453413  \n",
       "std            0.376487     0.150562     0.145934    34.002473     0.266632  \n",
       "min            0.000000     0.025297     0.023234    29.093000     0.014392  \n",
       "25%            0.164972     0.104052     0.036897    98.000750     0.224617  \n",
       "50%            0.808752     0.123080     0.049594   124.625500     0.446240  \n",
       "75%            0.915472     0.215151     0.088290   151.450000     0.666914  \n",
       "max            0.993134     0.971392     0.966177   250.059000     0.983649  "
      ]
     },
     "execution_count": 392,
     "metadata": {},
     "output_type": "execute_result"
    }
   ],
   "source": [
    "# print summary statistics\n",
    "df.describe()"
   ]
  },
  {
   "cell_type": "markdown",
   "id": "9f570661-1360-4324-af04-021b80dc875d",
   "metadata": {},
   "source": [
    "Tempo has high variance. "
   ]
  },
  {
   "cell_type": "code",
   "execution_count": 393,
   "id": "42e241c0-5680-4cab-bbe4-a6ca3e169310",
   "metadata": {},
   "outputs": [
    {
     "name": "stdout",
     "output_type": "stream",
     "text": [
      "Rock       3892\n",
      "Hip-Hop     910\n",
      "Name: genre_top, dtype: int64\n"
     ]
    }
   ],
   "source": [
    "print(df['genre_top'].value_counts())"
   ]
  },
  {
   "cell_type": "markdown",
   "id": "24656e00-e640-4050-bc91-a443a9c04e7b",
   "metadata": {},
   "source": [
    "#### NOTE:\n",
    "This clearly shows that the dataset is imbalanced. Hence, accuracy may not be the best metric to evaluate the model performance. Therefore, we may need to look at other metrics such as **precision** and **f1_score** ."
   ]
  },
  {
   "cell_type": "markdown",
   "id": "fc995eee-c948-46b5-af99-ab0fce831d81",
   "metadata": {},
   "source": [
    "### 2. Pairwise relationships between continuous variables\n",
    " We typically want to avoid using variables that have strong correlations with each other -- hence avoiding feature redundancy -- for a few reasons:\n",
    "\n",
    "* To keep the model simple and improve interpretability (with many features, we run the risk of overfitting).\n",
    "* When our datasets are very large, using fewer features can drastically speed up our computation time.\n",
    "\n",
    "To get a sense of whether there are any strongly correlated features in our data, we will plot the heatmap using seaborn library."
   ]
  },
  {
   "cell_type": "code",
   "execution_count": 394,
   "id": "90eb59d3-d661-4cd3-a13c-ba6bd2a138d2",
   "metadata": {},
   "outputs": [],
   "source": [
    "# Custom colour map based on Netflix palette\n",
    "cmap = matplotlib.colors.LinearSegmentedColormap.from_list(\"\", ['#221f1f', '#0045a4','#0e4f66'])\n",
    "def genreHeatmap():  \n",
    "    test = echonest_metrics\n",
    "    corr = test.corr()\n",
    "    mask = np.zeros_like(corr, dtype= bool)\n",
    "    mask[np.triu_indices_from(mask)] = True\n",
    "    fig, ax = plt.subplots(figsize=(10, 7), dpi = 100)\n",
    "    fig.text(.37, .95,'Correlation Coefficient', fontfamily='serif',fontweight='bold',fontsize=15)\n",
    "    pl = sns.heatmap(corr, mask=mask, annot = True, fmt = '.2f',cbar = False,\n",
    "                     cmap=cmap, vmax=.3, vmin=-.3, center=0, square=True, linewidths=2.5)\n",
    "    plt.tick_params(which=u'both', axis=u'both', length=0)\n",
    "    plt.tight_layout()\n",
    "    \n",
    "    # Show the plot\n",
    "    plt.show()"
   ]
  },
  {
   "cell_type": "code",
   "execution_count": 395,
   "id": "658185ed-ff57-42e2-a1ce-d821963efb59",
   "metadata": {},
   "outputs": [
    {
     "data": {
      "image/png": "[encoded data removed]",
      "text/plain": [
       "<Figure size 1000x700 with 1 Axes>"
      ]
     },
     "metadata": {},
     "output_type": "display_data"
    }
   ],
   "source": [
    "genreHeatmap()"
   ]
  },
  {
   "cell_type": "markdown",
   "id": "af61bb2c-174f-4a83-9ec2-05db051eeb5a",
   "metadata": {},
   "source": [
    "From the above heatmap, it appears that there is no strong correleation between the features"
   ]
  },
  {
   "cell_type": "markdown",
   "id": "fd264c36-1364-4cdd-896a-da9203103e03",
   "metadata": {},
   "source": [
    "### 3. Splitting our data\n",
    "\n",
    "As mentioned earlier, it can be particularly useful to simplify our models and use as few features as necessary to achieve the best result. Since we didn't find any particularly strong correlations between our features, we can now split our data into an array containing our features, and another containing the labels - the genre of the track.\n",
    "\n",
    "Once we have split the data into these arrays, we will perform some preprocessing steps to optimize our model development.\n"
   ]
  },
  {
   "cell_type": "code",
   "execution_count": 396,
   "id": "c235fdae-82b5-4055-9d25-62f2f515e9f7",
   "metadata": {},
   "outputs": [],
   "source": [
    "# Create features\n",
    "features = echo_tracks.drop([\"genre_top\", \"track_id\"], axis=1)\n",
    "\n",
    "# Create labels\n",
    "labels = echo_tracks[\"genre_top\"]\n",
    "\n",
    "# Split our data\n",
    "X_train, X_test, y_train, y_test = train_test_split(features, labels, test_size = 0.2, random_state=42)"
   ]
  },
  {
   "cell_type": "markdown",
   "id": "c06f011a-2ec4-45e5-9642-ab810568e5a4",
   "metadata": {},
   "source": [
    "### Normalizing the feature data\n",
    "As mentioned earlier, it can be particularly useful to simplify our models and use as few features as necessary to achieve the best result. Since we didn't find any particular strong correlations between our features, we can instead use a common approach to reduce the number of features called principal component analysis (PCA).\n",
    "\n",
    "It is possible that the variance between genres can be explained by just a few features in the dataset. PCA rotates the data along the axis of highest variance, thus allowing us to determine the relative contribution of each feature of our data towards the variance between classes.\n",
    "\n",
    "However, since PCA uses the absolute variance of a feature to rotate the data, a feature with a broader range of values will overpower and bias the algorithm relative to the other features. To avoid this, we must first normalize our train and test features. There are a few methods to do this, but a common way is through standardization, such that all features have a mean = 0 and standard deviation = 1 (the resultant is a z-score). "
   ]
  },
  {
   "cell_type": "code",
   "execution_count": 397,
   "id": "8781b0a9-f83c-4c69-b006-7161fb70356c",
   "metadata": {},
   "outputs": [],
   "source": [
    "# Import the StandardScaler\n",
    "from sklearn.preprocessing import StandardScaler\n",
    "\n",
    "# Scale X_train and set the values to a new variable\n",
    "scaler = StandardScaler()\n",
    "\n",
    "# Scale train_features and test_features\n",
    "X_train_scaled = scaler.fit_transform(X_train)\n",
    "X_test_scaled = scaler.transform(X_test)"
   ]
  },
  {
   "cell_type": "markdown",
   "id": "af2bcf1a-fb2a-4838-a73d-f6bdcc894b7a",
   "metadata": {},
   "source": [
    "### 5. Principal Component Analysis on our scaled data\n",
    "\n",
    "Now that we have preprocessed our data, we are ready to use PCA to determine by how much we can reduce the dimensionality of our data. We can use **scree-plots** and **cumulative explained ratio plots** to find the number of components to use in further analyses.\n",
    "\n",
    "Scree-plots display the number of components against the variance explained by each component, sorted in descending order of variance. Scree-plots help us get a better sense of which components explain a sufficient amount of variance in our data. When using scree plots, an 'elbow' (a steep drop from one data point to the next) in the plot is typically used to decide on an appropriate cutoff.\n"
   ]
  },
  {
   "cell_type": "code",
   "execution_count": 398,
   "id": "b4df9987-6413-4656-a2a6-4c6d86352607",
   "metadata": {},
   "outputs": [
    {
     "data": {
      "image/png": "[encoded data removed]",
      "text/plain": [
       "<Figure size 700x500 with 1 Axes>"
      ]
     },
     "metadata": {},
     "output_type": "display_data"
    }
   ],
   "source": [
    "from sklearn.decomposition import PCA\n",
    "\n",
    "# Get our explained variance ratios from PCA using all features\n",
    "pca = PCA()\n",
    "pca.fit(X_test_scaled)\n",
    "exp_variance = pca.explained_variance_ratio_\n",
    "\n",
    "# plot the explained variance using a barplot\n",
    "fig, ax = plt.subplots(figsize = (7, 5), dpi=100)\n",
    "ax.bar(range(pca.n_components_), exp_variance, width=0.4, color='#0e4f66')\n",
    "\n",
    "# Label x-axis\n",
    "ax.set_xlabel('Principal Component', fontsize=13)\n",
    "\n",
    "# Remove the borders\n",
    "for s in ['top', 'left', 'right', 'bottom']:\n",
    "    ax.spines[s].set_visible(False)\n",
    "    \n",
    "# Add title\n",
    "fig.text(0.3, 0.95, 'Explained Variance', fontsize =15, \n",
    "         fontfamily='serif', fontweight='bold')\n",
    "\n",
    "plt.tick_params(axis=u'both', which = u'both', length=0)\n",
    "plt.tight_layout()\n",
    "\n",
    "# Show the plot\n",
    "plt.show()"
   ]
  },
  {
   "cell_type": "markdown",
   "id": "1157c1a4-cab9-4d0b-b950-cf66f4e205cd",
   "metadata": {},
   "source": [
    "### 6. Further visualization of PCA\n",
    "\n",
    "Unfortunately, there does not appear to be a clear elbow in this scree plot, which means it is not straightforward to find the number of intrinsic dimensions using this method.\n",
    "\n",
    "But all is not lost! Instead, we can also look at the **cumulative explained variance plot** to determine how many features are required to explain, say, about 85% of the variance (cutoffs are somewhat arbitrary here, and usually decided upon by 'rules of thumb'). Once we determine the appropriate number of components, we can perform PCA with that many components, ideally reducing the dimensionality of our data.\n"
   ]
  },
  {
   "cell_type": "code",
   "execution_count": 399,
   "id": "90b7622e-86c0-4a8c-be6d-4950e259b9a9",
   "metadata": {},
   "outputs": [
    {
     "data": {
      "image/png": "[encoded data removed]",
      "text/plain": [
       "<Figure size 560x400 with 1 Axes>"
      ]
     },
     "metadata": {},
     "output_type": "display_data"
    }
   ],
   "source": [
    "# plot the explained variance using a barplot\n",
    "fig, ax = plt.subplots(figsize = (7, 5), dpi=80)\n",
    "\n",
    "# Calculate the cumulative explained variance\n",
    "cum_exp_variance = np.cumsum(exp_variance)\n",
    "\n",
    "# Plot the cumulative explained variance and draw a dashed line at 0.85.\n",
    "ax.plot(cum_exp_variance, color = '#0e4f66', linewidth=2.0 )\n",
    "ax.axhline(y=0.85, linestyle='--', color = '#221f1f')\n",
    "\n",
    "# Remove the borders\n",
    "for s in ['top', 'left', 'right', 'bottom']:\n",
    "    ax.spines[s].set_visible(False)\n",
    "    \n",
    "# Add title\n",
    "fig.text(0.3, 0.95, 'Explained Variance curve', fontsize =15, \n",
    "         fontfamily='serif', fontweight='bold')\n",
    "\n",
    "plt.tick_params(axis=u'both', which = u'both', length=0)\n",
    "plt.tight_layout()\n",
    "\n",
    "# Show the plot\n",
    "plt.show()"
   ]
  },
  {
   "cell_type": "markdown",
   "id": "ed69e87d-ab83-439b-80c3-2a2bed2a3178",
   "metadata": {},
   "source": [
    "### 7. Projecting on to our features\n",
    "We saw from the plot that 6 features (remember indexing starts at 0) can explain 85% of the variance!\n",
    "Therefore, we can use 6 components to perform PCA and reduce the dimensionality of our train and test features.\n"
   ]
  },
  {
   "cell_type": "code",
   "execution_count": 400,
   "id": "dce14206-d4d8-41ba-9ad6-e5f5f599ed82",
   "metadata": {},
   "outputs": [],
   "source": [
    "# Perform PCA with the chosen number of components and project data onto components\n",
    "pca = PCA(n_components=6, random_state=42)\n",
    "\n",
    "# Fit and transform the scaled training features using pca\n",
    "train_pca = pca.fit_transform(X_train_scaled)\n",
    "\n",
    "# Fit and transform the scaled test features using pca\n",
    "test_pca = pca.transform(X_test_scaled)"
   ]
  },
  {
   "cell_type": "markdown",
   "id": "249f77d8-b327-4e89-8110-eab4233d60cd",
   "metadata": {},
   "source": [
    "### 8. Train a decision tree to classify genre\n",
    "Now we can use the lower dimensional PCA projection of the data to classify songs into genres.\n",
    "\n",
    "Here, we will be using a simple algorithm known as a decision tree. Decision trees are rule-based classifiers that take in features and follow a 'tree structure' of binary decisions to ultimately classify a data point into one of two or more categories. In addition to being easy to both use and interpret, decision trees allow us to visualize the 'logic flowchart' that the model generates from the training data.\n",
    "\n",
    "Here is an example of a decision tree that demonstrates the process by which an input image (in this case, of a shape) might be classified based on the number of sides it has and whether it is rotated."
   ]
  },
  {
   "cell_type": "code",
   "execution_count": 401,
   "id": "c24d8551-efd8-48d7-ba07-0a5b744a5726",
   "metadata": {},
   "outputs": [],
   "source": [
    "# Create our decision tree\n",
    "dt = DecisionTreeClassifier(random_state=42)\n",
    "\n",
    "# Train our decision tree\n",
    "dt.fit(train_pca, y_train)\n",
    "\n",
    "# Predict the labels for the test data\n",
    "dt_pred = dt.predict(test_pca)"
   ]
  },
  {
   "cell_type": "markdown",
   "id": "d79cf031-e144-409a-b210-0645deb65719",
   "metadata": {},
   "source": [
    "### 9. Compare our decision tree to other algorithms\n",
    "\n",
    "Although our tree's performance is decent, it's a bad idea to immediately assume that it's therefore the perfect tool for this job -- there's always the possibility of other models that will perform even better! It's always a worthwhile idea to at least test a few other algorithms and find the one that's best for our data.\n",
    "\n",
    "Sometimes simplest is best, and so we will start by applying **logistic regression**. Logistic regression makes use of what's called the logistic function to calculate the odds that a given data point belongs to a given class. Once we have both models, we can compare them on a few performance metrics, such as false positive and false negative rate (or how many points are inaccurately classified).\n"
   ]
  },
  {
   "cell_type": "code",
   "execution_count": 402,
   "id": "99f9eb48-0b34-409f-8fab-a05638a031e0",
   "metadata": {},
   "outputs": [],
   "source": [
    "# Train our logisitic regression\n",
    "lr = LogisticRegression(random_state=42)\n",
    "lr.fit(train_pca, y_train)\n",
    "lr_pred = lr.predict(test_pca)"
   ]
  },
  {
   "cell_type": "code",
   "execution_count": 403,
   "id": "051121f8-f148-4221-8c1b-dd0c75206e48",
   "metadata": {},
   "outputs": [],
   "source": [
    "# Train our logisitic regression\n",
    "rf = RandomForestClassifier(random_state=42)\n",
    "rf.fit(train_pca, y_train)\n",
    "rf_pred = rf.predict(test_pca)"
   ]
  },
  {
   "cell_type": "code",
   "execution_count": 404,
   "id": "141fce1a-725b-433c-aad5-cd0b376b6aff",
   "metadata": {},
   "outputs": [],
   "source": [
    "# Train our logisitic regression\n",
    "svm =SVC(random_state=42)\n",
    "svm.fit(train_pca, y_train)\n",
    "svm_pred = svm.predict(test_pca)"
   ]
  },
  {
   "cell_type": "code",
   "execution_count": 405,
   "id": "20eef010-8c3c-4342-8fc4-4a958e311522",
   "metadata": {},
   "outputs": [],
   "source": [
    "class_rep_tree = classification_report(y_test, dt_pred)\n",
    "class_rep_log = classification_report(y_test, lr_pred)\n",
    "class_rep_forest =classification_report(y_test, rf_pred)\n",
    "class_rep_svc = classification_report(y_test, svm_pred)\n"
   ]
  },
  {
   "cell_type": "code",
   "execution_count": 406,
   "id": "b0773a24-8f5d-48ea-a212-fc0f963e7a1c",
   "metadata": {},
   "outputs": [
    {
     "name": "stdout",
     "output_type": "stream",
     "text": [
      "Decision Tree: \n",
      "               precision    recall  f1-score   support\n",
      "\n",
      "     Hip-Hop       0.66      0.65      0.65       182\n",
      "        Rock       0.92      0.92      0.92       779\n",
      "\n",
      "    accuracy                           0.87       961\n",
      "   macro avg       0.79      0.79      0.79       961\n",
      "weighted avg       0.87      0.87      0.87       961\n",
      "\n",
      "Logistic Regression: \n",
      "               precision    recall  f1-score   support\n",
      "\n",
      "     Hip-Hop       0.76      0.54      0.63       182\n",
      "        Rock       0.90      0.96      0.93       779\n",
      "\n",
      "    accuracy                           0.88       961\n",
      "   macro avg       0.83      0.75      0.78       961\n",
      "weighted avg       0.87      0.88      0.87       961\n",
      "\n",
      "Random Forest: \n",
      "               precision    recall  f1-score   support\n",
      "\n",
      "     Hip-Hop       0.88      0.69      0.77       182\n",
      "        Rock       0.93      0.98      0.95       779\n",
      "\n",
      "    accuracy                           0.92       961\n",
      "   macro avg       0.90      0.83      0.86       961\n",
      "weighted avg       0.92      0.92      0.92       961\n",
      "\n",
      "Support Vector: \n",
      "               precision    recall  f1-score   support\n",
      "\n",
      "     Hip-Hop       0.89      0.67      0.76       182\n",
      "        Rock       0.93      0.98      0.95       779\n",
      "\n",
      "    accuracy                           0.92       961\n",
      "   macro avg       0.91      0.83      0.86       961\n",
      "weighted avg       0.92      0.92      0.92       961\n",
      "\n"
     ]
    }
   ],
   "source": [
    "print(\"Decision Tree: \\n\", class_rep_tree)\n",
    "print(\"Logistic Regression: \\n\", class_rep_log)\n",
    "print(\"Random Forest: \\n\", class_rep_forest)\n",
    "print(\"Support Vector: \\n\", class_rep_svc)"
   ]
  },
  {
   "cell_type": "markdown",
   "id": "dc4b5c9e-85d1-4849-ba39-8f6ff1d0bbd1",
   "metadata": {},
   "source": [
    "### 10. Balance our data for greater performance\n",
    "\n",
    "Our models do similarly well. However, looking at our classification report, we can see that rock songs are fairly well classified, but hip-hop songs are disproportionately misclassified as rock songs.\n",
    "\n",
    "Why might this be the case? Well, just by looking at the number of data points we have for each class, we see that we have far more data points for the rock classification than for hip-hop, potentially skewing our model's ability to distinguish between classes. This also tells us that most of our model's accuracy is driven by its ability to classify just rock songs, which is less than ideal.\n",
    "\n",
    "To account for this, we can weight the value of a correct classification in each class inversely to the occurrence of data points for each class. Since a correct classification for \"Rock\" is not more important than a correct classification for \"Hip-Hop\" (and vice versa), we only need to account for differences in sample size of our data points when weighting our classes here, and not relative importance of each class.\n"
   ]
  },
  {
   "cell_type": "code",
   "execution_count": 407,
   "id": "db2784a7-6043-435e-823d-13e09762ea28",
   "metadata": {},
   "outputs": [],
   "source": [
    "# Subset a balanced proportion of data points\n",
    "hop_only = df.loc[echo_tracks['genre_top'] == 'Hip-Hop']\n",
    "rock_only = df.loc[echo_tracks['genre_top'] == 'Rock']\n",
    "\n",
    "# subset only the rock songs, and take a sample the same size as there are hip-hop songs\n",
    "rock_only = rock_only.sample(hop_only.shape[0], random_state=42)\n",
    "\n",
    "# concatenate the dataframes hop_only and rock_only\n",
    "rock_hop_bal = pd.concat([rock_only, hop_only])"
   ]
  },
  {
   "cell_type": "code",
   "execution_count": 408,
   "id": "9164d691-30b5-4cb8-ac9c-7353563a3119",
   "metadata": {},
   "outputs": [],
   "source": [
    "# The features, labels, and pca projection are created for the balanced dataframe\n",
    "features = rock_hop_bal.drop(['genre_top', 'track_id'], axis=1) \n",
    "labels = rock_hop_bal['genre_top']\n",
    "\n",
    "# Redefine the train and test set with the pca_projection from the balanced data\n",
    "X_train, X_test, y_train, y_test = train_test_split(features, labels, test_size=0.2, random_state=42)\n",
    "\n",
    "train_pca = pca.fit_transform(scaler.fit_transform(X_train))\n",
    "test_pca = pca.transform(scaler.transform(X_test))"
   ]
  },
  {
   "cell_type": "markdown",
   "id": "673aefc8-7039-4124-8b11-5a615c15bba8",
   "metadata": {},
   "source": [
    "### 11. Does balancing our dataset improve model bias?\n",
    "\n",
    "We've now balanced our dataset, but in doing so, we've removed a lot of data points that might have been crucial to training our models. Let's test to see if balancing our data improves model bias towards the \"Rock\" classification while retaining overall classification performance.\n"
   ]
  },
  {
   "cell_type": "code",
   "execution_count": 409,
   "id": "a1820fdb-6e25-4d44-91d4-fc38291609e6",
   "metadata": {},
   "outputs": [],
   "source": [
    "# Create our decision tree\n",
    "dt = DecisionTreeClassifier(random_state=42)\n",
    "# Train our decision tree\n",
    "dt.fit(train_pca, y_train)\n",
    "\n",
    "# Predict the labels for the test data\n",
    "dt_pred = dt.predict(test_pca)"
   ]
  },
  {
   "cell_type": "code",
   "execution_count": 410,
   "id": "e2cd0c59-f22f-474b-87b1-35131d11f07e",
   "metadata": {},
   "outputs": [],
   "source": [
    "# Train our logisitic regression\n",
    "lr = LogisticRegression(random_state=42)\n",
    "lr.fit(train_pca, y_train)\n",
    "\n",
    "# Predict the labels for the test data\n",
    "lr_pred = lr.predict(test_pca)"
   ]
  },
  {
   "cell_type": "code",
   "execution_count": 411,
   "id": "b53ee45a-89ed-440f-aec6-55720d14ec3d",
   "metadata": {},
   "outputs": [],
   "source": [
    "# Train our logisitic regression\n",
    "rf = RandomForestClassifier(random_state=42)\n",
    "rf.fit(train_pca, y_train)\n",
    "\n",
    "# Predict the labels for the test data\n",
    "rf_pred = rf.predict(test_pca)"
   ]
  },
  {
   "cell_type": "code",
   "execution_count": 412,
   "id": "5158dedf-043f-46a9-9064-0a5a576a696e",
   "metadata": {},
   "outputs": [],
   "source": [
    "# Train our logisitic regression\n",
    "svm = LogisticRegression(random_state=42)\n",
    "svm.fit(train_pca, y_train)\n",
    "\n",
    "# Predict the labels for the test data\n",
    "svm_pred = svm.predict(test_pca)"
   ]
  },
  {
   "cell_type": "code",
   "execution_count": 413,
   "id": "efaa287e-dcc1-4533-8ddd-e43b260eb219",
   "metadata": {},
   "outputs": [],
   "source": [
    "class_rep_tree = classification_report(y_test, dt_pred)\n",
    "class_rep_log = classification_report(y_test, lr_pred)\n",
    "class_rep_forest =classification_report(y_test, rf_pred)\n",
    "class_rep_svc = classification_report(y_test, svm_pred)"
   ]
  },
  {
   "cell_type": "code",
   "execution_count": 414,
   "id": "2b147264-c494-4d51-8341-59b9a36ecb58",
   "metadata": {},
   "outputs": [
    {
     "name": "stdout",
     "output_type": "stream",
     "text": [
      "Decision Tree: \n",
      "               precision    recall  f1-score   support\n",
      "\n",
      "     Hip-Hop       0.79      0.80      0.80       183\n",
      "        Rock       0.79      0.79      0.79       181\n",
      "\n",
      "    accuracy                           0.79       364\n",
      "   macro avg       0.79      0.79      0.79       364\n",
      "weighted avg       0.79      0.79      0.79       364\n",
      "\n",
      "Logistic Regression: \n",
      "               precision    recall  f1-score   support\n",
      "\n",
      "     Hip-Hop       0.84      0.81      0.83       183\n",
      "        Rock       0.82      0.84      0.83       181\n",
      "\n",
      "    accuracy                           0.83       364\n",
      "   macro avg       0.83      0.83      0.83       364\n",
      "weighted avg       0.83      0.83      0.83       364\n",
      "\n",
      "Random Forest: \n",
      "               precision    recall  f1-score   support\n",
      "\n",
      "     Hip-Hop       0.86      0.85      0.85       183\n",
      "        Rock       0.85      0.86      0.85       181\n",
      "\n",
      "    accuracy                           0.85       364\n",
      "   macro avg       0.85      0.85      0.85       364\n",
      "weighted avg       0.85      0.85      0.85       364\n",
      "\n",
      "Support Vector: \n",
      "               precision    recall  f1-score   support\n",
      "\n",
      "     Hip-Hop       0.84      0.81      0.83       183\n",
      "        Rock       0.82      0.84      0.83       181\n",
      "\n",
      "    accuracy                           0.83       364\n",
      "   macro avg       0.83      0.83      0.83       364\n",
      "weighted avg       0.83      0.83      0.83       364\n",
      "\n"
     ]
    }
   ],
   "source": [
    "print(\"Decision Tree: \\n\", class_rep_tree)\n",
    "print(\"Logistic Regression: \\n\", class_rep_log)\n",
    "print(\"Random Forest: \\n\", class_rep_forest)\n",
    "print(\"Support Vector: \\n\", class_rep_svc)"
   ]
  },
  {
   "cell_type": "markdown",
   "id": "6da3bf7f-bcf9-4e74-a500-23933d73aaaa",
   "metadata": {},
   "source": [
    "### 12. Using cross-validation to evaluate our models\n",
    "Before we can perform cross-validation we will need to create pipelines to scale our data, perform PCA, and instantiate our model of choice - DecisionTreeClassifier or LogisticRegression or RandomForest or SVC\n",
    "\n",
    "Since the way our data is split into train and test sets can impact model performance, CV attempts to split the data multiple ways and test the model on each of the splits. Although there are many different CV methods, all with their own advantages and disadvantages, we will use what's known as K-fold CV here. K-fold first splits the data into K different, equally sized subsets. Then, it iteratively uses each subset as a test set while using the remainder of the data as train sets. Finally, we can then aggregate the results from each fold for a final model performance score.\n"
   ]
  },
  {
   "cell_type": "code",
   "execution_count": 415,
   "id": "ebffcdb0-ecb1-4ed4-b318-6250f30f8931",
   "metadata": {},
   "outputs": [],
   "source": [
    "dt_pipe = Pipeline([(\"scaler\", StandardScaler()), (\"pca\", PCA(n_components=6)), \n",
    "                      (\"tree\", DecisionTreeClassifier(random_state=42))])\n",
    "lr_pipe = Pipeline([(\"scaler\", StandardScaler()), (\"pca\", PCA(n_components=6)), \n",
    "                        (\"logreg\", LogisticRegression(random_state=42))])\n",
    "rf_pipe = Pipeline([(\"scaler\", StandardScaler()), (\"pca\", PCA(n_components=6)), \n",
    "                        (\"classifier\", RandomForestClassifier(random_state=42))])\n",
    "svm_pipe = Pipeline([(\"scaler\", StandardScaler()), (\"pca\", PCA(n_components=6)), \n",
    "                        (\"svm\", SVC(random_state=42))])\n",
    "\n",
    "# Set up our K-fold cross-validation\n",
    "kf = KFold(10)\n"
   ]
  },
  {
   "cell_type": "code",
   "execution_count": 416,
   "id": "4856f07f-d97f-4da1-a026-2b0bb2e3a142",
   "metadata": {},
   "outputs": [],
   "source": [
    "# Train our models using KFold cv\n",
    "dt_score = cross_val_score(dt_pipe, features, labels, cv=kf)\n",
    "lr_score = cross_val_score(lr_pipe, features, labels, cv=kf)\n",
    "rf_score = cross_val_score(rf_pipe, features, labels, cv=kf)\n",
    "svm_score = cross_val_score(svm_pipe, features, labels, cv=kf)"
   ]
  },
  {
   "cell_type": "code",
   "execution_count": 417,
   "id": "6cb9e4dd-455b-4d74-bed0-6c09f363e767",
   "metadata": {},
   "outputs": [],
   "source": [
    "score_df = pd.DataFrame(data=[round(np.mean(dt_score),3), \n",
    "                              round(np.mean(lr_score), 3),\n",
    "                              round(np.mean(rf_score), 3),\n",
    "                              round(np.mean(svm_score), 3)],\n",
    "                    columns = ['model_scores'],\n",
    "                    index = ['Decision tree', 'Logistic regression', \n",
    "                             'Random forest', 'Support vector'])"
   ]
  },
  {
   "cell_type": "code",
   "execution_count": 418,
   "id": "56f27dd7-93e3-42f2-ae30-17861af09d20",
   "metadata": {},
   "outputs": [
    {
     "data": {
      "text/html": [
       "<div>\n",
       "<style scoped>\n",
       "    .dataframe tbody tr th:only-of-type {\n",
       "        vertical-align: middle;\n",
       "    }\n",
       "\n",
       "    .dataframe tbody tr th {\n",
       "        vertical-align: top;\n",
       "    }\n",
       "\n",
       "    .dataframe thead th {\n",
       "        text-align: right;\n",
       "    }\n",
       "</style>\n",
       "<table border=\"1\" class=\"dataframe\">\n",
       "  <thead>\n",
       "    <tr style=\"text-align: right;\">\n",
       "      <th></th>\n",
       "      <th>model_scores</th>\n",
       "    </tr>\n",
       "  </thead>\n",
       "  <tbody>\n",
       "    <tr>\n",
       "      <th>Decision tree</th>\n",
       "      <td>0.732</td>\n",
       "    </tr>\n",
       "    <tr>\n",
       "      <th>Logistic regression</th>\n",
       "      <td>0.775</td>\n",
       "    </tr>\n",
       "    <tr>\n",
       "      <th>Random forest</th>\n",
       "      <td>0.810</td>\n",
       "    </tr>\n",
       "    <tr>\n",
       "      <th>Support vector</th>\n",
       "      <td>0.818</td>\n",
       "    </tr>\n",
       "  </tbody>\n",
       "</table>\n",
       "</div>"
      ],
      "text/plain": [
       "                     model_scores\n",
       "Decision tree               0.732\n",
       "Logistic regression         0.775\n",
       "Random forest               0.810\n",
       "Support vector              0.818"
      ]
     },
     "execution_count": 418,
     "metadata": {},
     "output_type": "execute_result"
    }
   ],
   "source": [
    "score_df"
   ]
  },
  {
   "cell_type": "code",
   "execution_count": 422,
   "id": "6c366911-2222-47b0-96ab-eef6ed81b389",
   "metadata": {},
   "outputs": [
    {
     "data": {
      "image/png": "[encoded data removed]",
      "text/plain": [
       "<Figure size 300x1000 with 1 Axes>"
      ]
     },
     "metadata": {},
     "output_type": "display_data"
    }
   ],
   "source": [
    "fig = plt.figure(figsize=(3, 10), dpi = 100)\n",
    "f = fig.add_gridspec(4, 2)\n",
    "f.update(wspace=0.1, hspace=0.5)\n",
    "ax = fig.add_subplot(f[0, :])\n",
    "\n",
    "colors = ['#0e4f66', '#0e4f66']\n",
    "cmap = matplotlib.colors.LinearSegmentedColormap.from_list(\"\", colors)\n",
    "# Change background color\n",
    "background_color = '#f5f5f1'\n",
    "\n",
    "# figure background color\n",
    "fig.patch.set_facecolor(background_color)\n",
    "ax.set_facecolor(background_color)\n",
    "\n",
    "sns.heatmap(score_df, cmap=cmap,annot=True,fmt=\".1%\", linewidths=2.5,cbar=False,ax=ax)\n",
    "\n",
    "\n",
    "ax.tick_params(axis=u'both', which=u'both',length=0)\n",
    "ax.text(0,-1.5,'Model Scores',fontfamily='serif',fontsize=12,fontweight='bold')\n",
    "ax.text(0,-0.65,'Support Vector Machine performs best.',\n",
    "         fontfamily='serif',fontsize=10)\n",
    "\n",
    "from matplotlib.patches import Rectangle\n",
    "rect = ax.add_patch(Rectangle((0, 3), 5, 1, fill=True, edgecolor='black', lw=0))\n",
    "\n",
    "plt.show()"
   ]
  },
  {
   "cell_type": "markdown",
   "id": "be62cb26-4e9d-4b39-be3a-d3a1e4d98870",
   "metadata": {},
   "source": [
    "### Confusion Matrix"
   ]
  },
  {
   "cell_type": "code",
   "execution_count": 420,
   "id": "58643af5-86d1-4f91-9aad-b333767cf6c3",
   "metadata": {},
   "outputs": [],
   "source": [
    "def  plot_conf_matrix(y_test, y_pred, labels, ax):\n",
    "    \"\"\"This function plot the confusion matrix\"\"\"\n",
    "    \n",
    "    cm = confusion_matrix(y_test, y_pred, labels=labels)\n",
    "    disp = ConfusionMatrixDisplay(confusion_matrix = cm, display_labels=labels)\n",
    "    cmap = plt.cm.Blues\n",
    "    g = disp.plot(ax=ax, colorbar=False, cmap = cmap)\n",
    "    g = fig.text(0.35, 1, \"Confusion Matrix\", fontfamily=\"serif\", fontweight='bold', fontsize=15)\n",
    "    return g\n",
    "                              "
   ]
  },
  {
   "cell_type": "code",
   "execution_count": 421,
   "id": "ac0a9bf9-5cd2-4f85-9beb-a0b3867132fe",
   "metadata": {},
   "outputs": [
    {
     "data": {
      "image/png": "[encoded data removed]",
      "text/plain": [
       "<Figure size 640x480 with 4 Axes>"
      ]
     },
     "metadata": {},
     "output_type": "display_data"
    }
   ],
   "source": [
    "fig, ax = plt.subplots(2, 2, sharey = True, sharex=True)\n",
    "plot_conf_matrix(y_test, lr_pred, labels= lr.classes_, ax=ax[0, 0])\n",
    "ax[0,0].set_title(\"Logistic Regression\", fontsize = 9, fontfamily ='serif', fontstyle = 'italic')\n",
    "plot_conf_matrix(y_test, rf_pred, labels= rf.classes_, ax=ax[0, 1])\n",
    "ax[0,1].set_title(\"Random Forest\", fontsize = 9, fontfamily ='serif', fontstyle = 'italic')\n",
    "plot_conf_matrix(y_test, dt_pred, labels= dt.classes_, ax=ax[1, 0])\n",
    "ax[1,0].set_title(\"Decision Tree\", fontsize = 9, fontfamily ='serif', fontstyle = 'italic')\n",
    "plot_conf_matrix(y_test, svm_pred, labels= svm.classes_, ax=ax[1, 1])\n",
    "ax[1,1].set_title(\"Support Vector\", fontsize = 9, fontfamily ='serif', fontstyle = 'italic')\n",
    "fig.tight_layout()\n",
    "\n",
    "# Label axes\n",
    "for i in ax.flat:\n",
    "    i.set(xlabel = 'Predicted Label', ylabel = 'True Label')\n",
    "    \n",
    "# Hide x labels and tick labels for top plots and y_ticks for right plots.\n",
    "for i in ax.flat:\n",
    "    i.label_outer()\n",
    "    \n",
    "# Show the plot\n",
    "plt.show()"
   ]
  },
  {
   "cell_type": "markdown",
   "id": "fe8c3c6f-5eb9-41fe-95d7-dcaf936a90c4",
   "metadata": {},
   "source": [
    "Support vector machine is the best model."
   ]
  },
  {
   "cell_type": "code",
   "execution_count": null,
   "id": "cbab72f1-a481-4030-9fb6-75fb19bea6b5",
   "metadata": {},
   "outputs": [],
   "source": []
  }
 ],
 "metadata": {
  "kernelspec": {
   "display_name": "Python 3 (ipykernel)",
   "language": "python",
   "name": "python3"
  },
  "language_info": {
   "codemirror_mode": {
    "name": "ipython",
    "version": 3
   },
   "file_extension": ".py",
   "mimetype": "text/x-python",
   "name": "python",
   "nbconvert_exporter": "python",
   "pygments_lexer": "ipython3",
   "version": "3.9.12"
  }
 },
 "nbformat": 4,
 "nbformat_minor": 5
}
